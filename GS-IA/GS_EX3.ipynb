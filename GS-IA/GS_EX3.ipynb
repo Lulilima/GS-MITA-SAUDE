{
  "nbformat": 4,
  "nbformat_minor": 0,
  "metadata": {
    "colab": {
      "provenance": []
    },
    "kernelspec": {
      "name": "python3",
      "display_name": "Python 3"
    },
    "language_info": {
      "name": "python"
    }
  },
  "cells": [
    {
      "cell_type": "markdown",
      "source": [
        "Exercício 3 - DISRUPTIVE ARCHITECTURES: IOT, IOB & IA\n",
        "\n",
        "2TDSPS\n",
        "\n",
        "96409 - Leonardo Guimarães de Lima Marques\n",
        "\n",
        "97385 - José Carlos da Silva\n",
        "\n",
        "97569 - Maria Luiza de Goveia Lima\n",
        "\n",
        "96906 - Mariana Marques Sabio\n",
        "\n",
        "96881 - Vinícius de Abreu Pena"
      ],
      "metadata": {
        "id": "Pm17Z2bDejSt"
      }
    },
    {
      "cell_type": "code",
      "execution_count": 49,
      "metadata": {
        "colab": {
          "base_uri": "https://localhost:8080/"
        },
        "id": "1SMLuxMnXx6C",
        "outputId": "33da2948-7003-4835-85eb-e69d4d95e2ae"
      },
      "outputs": [
        {
          "output_type": "stream",
          "name": "stdout",
          "text": [
            "Requirement already satisfied: ucimlrepo in /usr/local/lib/python3.10/dist-packages (0.0.3)\n"
          ]
        }
      ],
      "source": [
        "import os\n",
        "import numpy as np\n",
        "import tensorflow as tf\n",
        "from sklearn.model_selection import train_test_split\n",
        "from sklearn.preprocessing import StandardScaler\n",
        "from tensorflow.keras.layers import Dense, Dropout\n",
        "from tensorflow.keras.preprocessing.image import ImageDataGenerator\n",
        "from tensorflow.keras.models import Sequential\n",
        "from tensorflow.keras.layers import Conv2D, MaxPooling2D, Flatten, Dense\n",
        "from sklearn.preprocessing import LabelEncoder\n",
        "from ucimlrepo import fetch_ucirepo\n",
        "!pip install ucimlrepo"
      ]
    },
    {
      "cell_type": "code",
      "source": [
        "breast_cancer_wisconsin_diagnostic = fetch_ucirepo(id=17)\n",
        "\n",
        "\n",
        "X = breast_cancer_wisconsin_diagnostic.data.features\n",
        "y = breast_cancer_wisconsin_diagnostic.data.targets\n",
        "\n",
        "\n",
        "print(breast_cancer_wisconsin_diagnostic.metadata)\n",
        "\n",
        "\n",
        "print(breast_cancer_wisconsin_diagnostic.variables)\n"
      ],
      "metadata": {
        "id": "T70d0BgBjYPt"
      },
      "execution_count": null,
      "outputs": []
    },
    {
      "cell_type": "code",
      "source": [
        "# Dividindo os dados em conjuntos de treino e teste\n",
        "X_train, X_test, y_train, y_test = train_test_split(X, y, test_size=0.2, random_state=42)\n"
      ],
      "metadata": {
        "id": "f6kdDi_VgZeN"
      },
      "execution_count": 51,
      "outputs": []
    },
    {
      "cell_type": "code",
      "source": [
        "# Padronizando os dados\n",
        "scaler = StandardScaler()\n",
        "X_train = scaler.fit_transform(X_train)\n",
        "X_test = scaler.transform(X_test)"
      ],
      "metadata": {
        "id": "5y89-NQHluZF"
      },
      "execution_count": 52,
      "outputs": []
    },
    {
      "cell_type": "code",
      "source": [
        "le = LabelEncoder()\n",
        "y_train = le.fit_transform(y_train)\n",
        "y_test = le.transform(y_test)"
      ],
      "metadata": {
        "colab": {
          "base_uri": "https://localhost:8080/"
        },
        "id": "2w8R2evYnCqn",
        "outputId": "03e83772-d913-4592-9a81-abbdcc27314a"
      },
      "execution_count": 41,
      "outputs": [
        {
          "output_type": "stream",
          "name": "stderr",
          "text": [
            "/usr/local/lib/python3.10/dist-packages/sklearn/preprocessing/_label.py:116: DataConversionWarning: A column-vector y was passed when a 1d array was expected. Please change the shape of y to (n_samples, ), for example using ravel().\n",
            "  y = column_or_1d(y, warn=True)\n",
            "/usr/local/lib/python3.10/dist-packages/sklearn/preprocessing/_label.py:134: DataConversionWarning: A column-vector y was passed when a 1d array was expected. Please change the shape of y to (n_samples, ), for example using ravel().\n",
            "  y = column_or_1d(y, dtype=self.classes_.dtype, warn=True)\n"
          ]
        }
      ]
    },
    {
      "cell_type": "code",
      "source": [
        "# Construindo o modelo de rede neural\n",
        "model = Sequential([\n",
        "    Dense(32, activation='relu', input_shape=(X_train.shape[1],)),\n",
        "    Dropout(0.5),\n",
        "    Dense(16, activation='relu'),\n",
        "    Dropout(0.5),\n",
        "    Dense(1, activation='sigmoid')\n",
        "])"
      ],
      "metadata": {
        "id": "nxCD63oMluol"
      },
      "execution_count": 42,
      "outputs": []
    },
    {
      "cell_type": "code",
      "source": [
        "# Compilando o modelo\n",
        "model.compile(optimizer='adam', loss='binary_crossentropy', metrics=['accuracy'])"
      ],
      "metadata": {
        "id": "68l43nkdmabm"
      },
      "execution_count": 43,
      "outputs": []
    },
    {
      "cell_type": "code",
      "source": [
        "# Treinando o modelo\n",
        "history = model.fit(X_train, y_train, epochs=20, batch_size=32, validation_data=(X_test, y_test), verbose=1)"
      ],
      "metadata": {
        "colab": {
          "base_uri": "https://localhost:8080/"
        },
        "id": "XvLrPp5Pl8Zk",
        "outputId": "3f97b741-6616-4494-aec4-ffcc2d7991ef"
      },
      "execution_count": 44,
      "outputs": [
        {
          "output_type": "stream",
          "name": "stdout",
          "text": [
            "Epoch 1/20\n",
            "15/15 [==============================] - 1s 19ms/step - loss: 0.7131 - accuracy: 0.5736 - val_loss: 0.5194 - val_accuracy: 0.8860\n",
            "Epoch 2/20\n",
            "15/15 [==============================] - 0s 5ms/step - loss: 0.6113 - accuracy: 0.6967 - val_loss: 0.4196 - val_accuracy: 0.9386\n",
            "Epoch 3/20\n",
            "15/15 [==============================] - 0s 5ms/step - loss: 0.5026 - accuracy: 0.7538 - val_loss: 0.3458 - val_accuracy: 0.9386\n",
            "Epoch 4/20\n",
            "15/15 [==============================] - 0s 4ms/step - loss: 0.4674 - accuracy: 0.7956 - val_loss: 0.2876 - val_accuracy: 0.9386\n",
            "Epoch 5/20\n",
            "15/15 [==============================] - 0s 4ms/step - loss: 0.4390 - accuracy: 0.8176 - val_loss: 0.2442 - val_accuracy: 0.9561\n",
            "Epoch 6/20\n",
            "15/15 [==============================] - 0s 4ms/step - loss: 0.3767 - accuracy: 0.8264 - val_loss: 0.2107 - val_accuracy: 0.9561\n",
            "Epoch 7/20\n",
            "15/15 [==============================] - 0s 4ms/step - loss: 0.3828 - accuracy: 0.8330 - val_loss: 0.1853 - val_accuracy: 0.9649\n",
            "Epoch 8/20\n",
            "15/15 [==============================] - 0s 5ms/step - loss: 0.3046 - accuracy: 0.8791 - val_loss: 0.1621 - val_accuracy: 0.9737\n",
            "Epoch 9/20\n",
            "15/15 [==============================] - 0s 4ms/step - loss: 0.2917 - accuracy: 0.8769 - val_loss: 0.1442 - val_accuracy: 0.9737\n",
            "Epoch 10/20\n",
            "15/15 [==============================] - 0s 5ms/step - loss: 0.2945 - accuracy: 0.8901 - val_loss: 0.1299 - val_accuracy: 0.9737\n",
            "Epoch 11/20\n",
            "15/15 [==============================] - 0s 6ms/step - loss: 0.2916 - accuracy: 0.8901 - val_loss: 0.1192 - val_accuracy: 0.9737\n",
            "Epoch 12/20\n",
            "15/15 [==============================] - 0s 4ms/step - loss: 0.2628 - accuracy: 0.8901 - val_loss: 0.1078 - val_accuracy: 0.9737\n",
            "Epoch 13/20\n",
            "15/15 [==============================] - 0s 5ms/step - loss: 0.2699 - accuracy: 0.9033 - val_loss: 0.0987 - val_accuracy: 0.9737\n",
            "Epoch 14/20\n",
            "15/15 [==============================] - 0s 5ms/step - loss: 0.2296 - accuracy: 0.9077 - val_loss: 0.0904 - val_accuracy: 0.9737\n",
            "Epoch 15/20\n",
            "15/15 [==============================] - 0s 4ms/step - loss: 0.2134 - accuracy: 0.9209 - val_loss: 0.0838 - val_accuracy: 0.9737\n",
            "Epoch 16/20\n",
            "15/15 [==============================] - 0s 5ms/step - loss: 0.1967 - accuracy: 0.9297 - val_loss: 0.0782 - val_accuracy: 0.9825\n",
            "Epoch 17/20\n",
            "15/15 [==============================] - 0s 5ms/step - loss: 0.1820 - accuracy: 0.9319 - val_loss: 0.0724 - val_accuracy: 0.9825\n",
            "Epoch 18/20\n",
            "15/15 [==============================] - 0s 5ms/step - loss: 0.1904 - accuracy: 0.9385 - val_loss: 0.0692 - val_accuracy: 0.9825\n",
            "Epoch 19/20\n",
            "15/15 [==============================] - 0s 4ms/step - loss: 0.1582 - accuracy: 0.9385 - val_loss: 0.0661 - val_accuracy: 0.9825\n",
            "Epoch 20/20\n",
            "15/15 [==============================] - 0s 4ms/step - loss: 0.1589 - accuracy: 0.9385 - val_loss: 0.0623 - val_accuracy: 0.9825\n"
          ]
        }
      ]
    },
    {
      "cell_type": "code",
      "source": [
        "loss, accuracy = model.evaluate(X_test, y_test)\n",
        "print(f\"A precisão do modelo nos dados de teste é: {accuracy * 100:.2f}%\")"
      ],
      "metadata": {
        "colab": {
          "base_uri": "https://localhost:8080/"
        },
        "id": "ZUHW14ytl8g_",
        "outputId": "740de173-95c7-47e1-cabf-31d0b3b70d81"
      },
      "execution_count": 45,
      "outputs": [
        {
          "output_type": "stream",
          "name": "stdout",
          "text": [
            "4/4 [==============================] - 0s 5ms/step - loss: 0.0623 - accuracy: 0.9825\n",
            "A precisão do modelo nos dados de teste é: 98.25%\n"
          ]
        }
      ]
    },
    {
      "cell_type": "code",
      "source": [
        "import matplotlib.pyplot as plt"
      ],
      "metadata": {
        "id": "DQujlb1woAaO"
      },
      "execution_count": 53,
      "outputs": []
    },
    {
      "cell_type": "code",
      "source": [
        "# Plotando a curva de perda durante o treinamento\n",
        "plt.plot(history.history['loss'], label='Loss (perda) - Treino')\n",
        "plt.plot(history.history['val_loss'], label='Loss (perda) - Validação')\n",
        "plt.xlabel('Épocas')\n",
        "plt.ylabel('Loss (perda)')\n",
        "plt.legend()\n",
        "plt.show()"
      ],
      "metadata": {
        "colab": {
          "base_uri": "https://localhost:8080/",
          "height": 451
        },
        "id": "gZa2yhx6nQSH",
        "outputId": "d8a21c84-e19f-4540-b337-ed6886117d1c"
      },
      "execution_count": 54,
      "outputs": [
        {
          "output_type": "display_data",
          "data": {
            "text/plain": [
              "<Figure size 640x480 with 1 Axes>"
            ],
            "image/png": "[encoded data removed]"
          },
          "metadata": {}
        }
      ]
    },
    {
      "cell_type": "code",
      "source": [
        "# Fazendo previsões\n",
        "y_pred = model.predict(X_test)\n",
        "y_pred_classes = (y_pred > 0.5).astype(\"int32\")\n",
        "\n",
        "# Matriz de confusão\n",
        "conf_matrix = confusion_matrix(y_test, y_pred_classes)\n",
        "print(\"Matriz de Confusão:\")\n",
        "print(conf_matrix)from sklearn.metrics import classification_report, confusion_matrix\n",
        "\n",
        "# Relatório de Classificação\n",
        "print(\"\\nRelatório de Classificação:\")\n",
        "print(classification_report(y_test, y_pred_classes))"
      ],
      "metadata": {
        "colab": {
          "base_uri": "https://localhost:8080/"
        },
        "id": "W5qW44vdnQpG",
        "outputId": "4593a9ea-77aa-4d7f-821a-cff1a33581e3"
      },
      "execution_count": 47,
      "outputs": [
        {
          "output_type": "stream",
          "name": "stdout",
          "text": [
            "4/4 [==============================] - 0s 4ms/step\n",
            "Matriz de Confusão:\n",
            "[[70  1]\n",
            " [ 1 42]]\n",
            "\n",
            "Relatório de Classificação:\n",
            "              precision    recall  f1-score   support\n",
            "\n",
            "           0       0.99      0.99      0.99        71\n",
            "           1       0.98      0.98      0.98        43\n",
            "\n",
            "    accuracy                           0.98       114\n",
            "   macro avg       0.98      0.98      0.98       114\n",
            "weighted avg       0.98      0.98      0.98       114\n",
            "\n"
          ]
        }
      ]
    },
    {
      "cell_type": "markdown",
      "source": [
        "Analisando os resultados, podemos verificar que a precisão média é de 98,2%, sendo bem alta, demonstrando uma solidez em resultados, indicando que é um modelo de bom desempenho para identificar as amostras de cancer de mama. De acordo com as métricas ainda é possível verificar que só houve um Falso positivo e um Falso negativo."
      ],
      "metadata": {
        "id": "SOza9EmHpZj9"
      }
    }
  ]
}